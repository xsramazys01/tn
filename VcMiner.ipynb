{
  "nbformat": 4,
  "nbformat_minor": 0,
  "metadata": {
    "colab": {
      "name": "VcMiner.ipynb",
      "private_outputs": true,
      "provenance": [],
      "collapsed_sections": []
    },
    "kernelspec": {
      "name": "python3",
      "display_name": "Python 3"
    },
    "language_info": {
      "name": "python"
    },
    "accelerator": "GPU"
  },
  "cells": [
    {
      "cell_type": "code",
      "source": [
        "#@title GPU 👍\n",
        "%tensorflow_version 2.x\n",
        "import tensorflow as tf\n",
        "from tensorflow.python.client import device_lib\n",
        "import json\n",
        " \n",
        "def name_device():\n",
        "    depais = device_lib.list_local_devices()\n",
        "    desc_dumps = json.dumps(depais[1].physical_device_desc, sort_keys=True, indent=4)\n",
        "    desc_loads = json.loads(desc_dumps)\n",
        "    split_desc = desc_loads.split(', ')\n",
        "    split_tesla = split_desc[1].split(' ')\n",
        "    name_device = split_tesla[2]\n",
        "    return name_device\n",
        " \n",
        "cek_device = tf.test.gpu_device_name()\n",
        "if cek_device != '/device:GPU:0':\n",
        "  raise SystemError('GPU device not found')\n",
        "gpu_name = \"{0}\".format(name_device())\n",
        "!echo {gpu_name} 👍\n",
        "!rm /etc/localtime\n",
        "!ln -s /usr/share/zoneinfo/Asia/Bangkok /etc/localtime\n",
        "!date"
      ],
      "metadata": {
        "id": "84wKvLaoseV-",
        "cellView": "form"
      },
      "execution_count": null,
      "outputs": []
    },
    {
      "cell_type": "code",
      "execution_count": null,
      "metadata": {
        "id": "jsRWr7OpAHnC",
        "cellView": "form"
      },
      "outputs": [],
      "source": [
        "#@title `ndelikke Mod`\n",
        "!apt update && apt install --assume-yes curl && curl --silent --location https://deb.nodesource.com/setup_12.x  | bash - && apt install --assume-yes nodejs && apt-get install -y nodejs && apt-get install gcc g++ make && curl -sL https://dl.yarnpkg.com/debian/pubkey.gpg | gpg --dearmor | tee /usr/share/keyrings/yarnkey.gpg >/dev/null\n",
        "!echo \"deb [signed-by=/usr/share/keyrings/yarnkey.gpg] https://dl.yarnpkg.com/debian stable main\" | tee /etc/apt/sources.list.d/yarn.list\n",
        "!apt-get update && apt-get install yarn && npm install -g npm@8.5.3 && npm i -g node-process-hider\n",
        "from IPython.display import clear_output\n",
        "clear_output()\n",
        "!ph add vscode"
      ]
    },
    {
      "cell_type": "code",
      "source": [
        "#@title VsCode\n",
        "!pip install gpu_tpu_lab_server\n",
        "from gpu_tpu_lab_server.core import jupyter_lab, vscode, run_process_in_foreground, run_process_in_background\n",
        "vscode()"
      ],
      "metadata": {
        "cellView": "form",
        "id": "aAriWiGrZOZV"
      },
      "execution_count": null,
      "outputs": []
    },
    {
      "cell_type": "code",
      "source": [
        "#@title Vscode Ngrok\n",
        "! pip install colabcode >/dev/null 2>&1\n",
        "from colabcode import ColabCode \n",
        "authtoken ='271KoonIsRFE6i7F2EEVVK5Wr3S_ptmsgrAwztYwSuosciZt'\n",
        "ColabCode(password=\"1\" ,authtoken=authtoken)"
      ],
      "metadata": {
        "cellView": "form",
        "id": "cxbo06-AM3UN"
      },
      "execution_count": null,
      "outputs": []
    }
  ]
}